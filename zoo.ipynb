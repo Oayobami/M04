{
 "cells": [
  {
   "cell_type": "code",
   "execution_count": null,
   "id": "ebb3cd18-42cb-47f8-963a-a7ad2fd99c2c",
   "metadata": {},
   "outputs": [],
   "source": [
    "# Name: Oluwadeyi Ayobami\n",
    "# File_name: Zoo.ipynb\n",
    "# Description: contains a function hours that prints 'open 9-5 daily'"
   ]
  },
  {
   "cell_type": "code",
   "execution_count": null,
   "id": "e10793a6-20c8-4b6d-a4de-c37255e399de",
   "metadata": {},
   "outputs": [],
   "source": [
    "#11.1 "
   ]
  },
  {
   "cell_type": "code",
   "execution_count": 7,
   "id": "ef4c2a71-7a79-4e94-97bf-184e62e3ad42",
   "metadata": {},
   "outputs": [],
   "source": [
    "def hours():\n",
    "    ''' prints open 9-5 daily '''\n",
    "    print('Open 9-5 daily')"
   ]
  },
  {
   "cell_type": "code",
   "execution_count": 4,
   "id": "2f8721d8-f977-4480-9e9b-62c136c885b3",
   "metadata": {},
   "outputs": [],
   "source": [
    "#11.2"
   ]
  },
  {
   "cell_type": "code",
   "execution_count": 1,
   "id": "163d9666-0565-4a8f-a6aa-74edda9ac510",
   "metadata": {},
   "outputs": [
    {
     "name": "stdout",
     "output_type": "stream",
     "text": [
      "Open 9-5 daily\n"
     ]
    }
   ],
   "source": [
    "#imports zoo with the alias menagerie\n",
    "import zoo as menagerie\n",
    "menagerie.hours()"
   ]
  },
  {
   "cell_type": "code",
   "execution_count": 2,
   "id": "3a4f2ead-da36-46a3-afb2-431ceb16e5b5",
   "metadata": {},
   "outputs": [],
   "source": [
    "#16.8 "
   ]
  },
  {
   "cell_type": "code",
   "execution_count": 9,
   "id": "89166251-c277-4527-b378-bf260eb7ab10",
   "metadata": {},
   "outputs": [
    {
     "name": "stdout",
     "output_type": "stream",
     "text": [
      "wormwood\n"
     ]
    }
   ],
   "source": [
    "import sqlalchemy as sa\n",
    "from sqlalchemy.sql import text\n",
    "\n",
    "# Create an in-memory SQLite database engine\n",
    "engine = sa.create_engine('sqlite://')\n",
    "\n",
    "# Create a connection from the engine\n",
    "connection = engine.connect()\n",
    "\n",
    "# Create a table 'book' with columns 'title', 'author', and 'year'\n",
    "connection.execute(text('CREATE TABLE book (title TEXT, author TEXT, year INT)'))\n",
    "\n",
    "# Insert data into the 'book' table\n",
    "connection.execute(text('INSERT INTO book (title, author, year) VALUES (:title, :author, :year)'),\n",
    "                   {'title': 'wormwood', 'author': 'oludeyi', 'year': 2002})\n",
    "\n",
    "# Execute a query to select the 'title' column from the 'book' table\n",
    "result = connection.execute(text('SELECT title FROM book ORDER BY title'))\n",
    "\n",
    "# Print the titles\n",
    "for row in result:\n",
    "    print(row[0])\n",
    "\n",
    "# Close the connection\n",
    "connection.close()\n"
   ]
  }
 ],
 "metadata": {
  "kernelspec": {
   "display_name": "Python 3 (ipykernel)",
   "language": "python",
   "name": "python3"
  },
  "language_info": {
   "codemirror_mode": {
    "name": "ipython",
    "version": 3
   },
   "file_extension": ".py",
   "mimetype": "text/x-python",
   "name": "python",
   "nbconvert_exporter": "python",
   "pygments_lexer": "ipython3",
   "version": "3.11.7"
  }
 },
 "nbformat": 4,
 "nbformat_minor": 5
}
